{
 "cells": [
  {
   "cell_type": "markdown",
   "id": "12ad2501",
   "metadata": {},
   "source": [
    "# Actividad - Trabajando con DataFrames de Pandas.\n",
    "## Criterios de evaluación.\n",
    "\n",
    "* Se deben utilizar nombres de variables descriptivos y claros (Utilizar la nomeclatura correspondiente para los nombres de variables).\n",
    "* Comentarios claros y concisos que expliquen el propósito de cada sección del código.\n",
    "* Utilizar mensajes de commit **descriptivos**. (Puedes utilizar la extension CONVENTIONAL COMMIT de VS-CODE). \n",
    "* Entrega en tiempo y forma.\n",
    "* Todo el código desarrollado debe ser subido a un repositorio en GitHub (el nombre del repositorio de seguir la siguiente estructura: pandas_df_tlp3_nombre_apellido).\n",
    "* Para resolver las actividades se debe insertar casillas de codigo entre cada actividad del cuaderno de Jupyter\n",
    "* Deben trabajar con el datasets adjunto a la actividad\n",
    "\n",
    "### ¡Importante!\n",
    "**El incumplimiento de los criterios de evaluación restará puntos en la nota final del práctico!**"
   ]
  },
  {
   "cell_type": "code",
   "execution_count": 3,
   "id": "afc60e66",
   "metadata": {},
   "outputs": [],
   "source": [
    "import pandas as pd\n",
    "import sqlite3\n",
    "\n",
    "#Aqui agrega la conexión a la base de datos\n",
    "conn = sqlite3.connect(\"Salaries.sqlite\")\n",
    "\n",
    "#Crea el dataframe con los datos del datasets\n",
    "df = pd.read_sql_query(\"SELECT * FROM Salaries\", conn)\n",
    "\n",
    "conn.close()\n",
    "df.head()\n",
    "\n",
    "# Exporte el dataframe a un archivo CSV\n",
    "df.to_csv(\"Salaries.csv\", index=False)"
   ]
  },
  {
   "cell_type": "markdown",
   "id": "b993b225",
   "metadata": {},
   "source": [
    "1. **Top 10 empleados con mayor salario total (incluyendo beneficios)**\n",
    "Extrae e imprime un top 10 de expleados con mayor salario incluyendo los beneficios \n"
   ]
  },
  {
   "cell_type": "code",
   "execution_count": 4,
   "id": "135f2471",
   "metadata": {},
   "outputs": [
    {
     "name": "stdout",
     "output_type": "stream",
     "text": [
      "                EmployeeName  TotalPayBenefits\n",
      "0             NATHANIEL FORD         567595.43\n",
      "1               GARY JIMENEZ         538909.28\n",
      "110531           David Shinn         510732.68\n",
      "110532            Amy P Hart         479652.21\n",
      "110533  William J Coaker Jr.         436224.36\n",
      "72925         Gregory P Suhr         425815.28\n",
      "72926   Joanne M Hayes-White         422353.40\n",
      "110534        Gregory P Suhr         418019.22\n",
      "110535  Joanne M Hayes-White         417435.10\n",
      "110536       Ellen G Moffatt         415767.94\n"
     ]
    }
   ],
   "source": [
    "#todo\n",
    "df['TotalPayBenefits'] = pd.to_numeric(df['TotalPayBenefits'], errors='coerce')\n",
    "top_10 = df.sort_values('TotalPayBenefits', ascending=False).head(10)\n",
    "\n",
    "print(top_10[['EmployeeName', 'TotalPayBenefits']])\n"
   ]
  },
  {
   "cell_type": "markdown",
   "id": "fd03ce6c",
   "metadata": {},
   "source": [
    "2. **Filtrar empleados con más de 50,000 en horas extra, la columna a tratar es: (OvertimePay)**"
   ]
  },
  {
   "cell_type": "code",
   "execution_count": 6,
   "id": "c5dc65c7",
   "metadata": {},
   "outputs": [
    {
     "name": "stdout",
     "output_type": "stream",
     "text": [
      "              EmployeeName                              JobTitle  OvertimePay\n",
      "1             GARY JIMENEZ       CAPTAIN III (POLICE DEPARTMENT)    245131.88\n",
      "2           ALBERT PARDINI       CAPTAIN III (POLICE DEPARTMENT)    106088.18\n",
      "3        CHRISTOPHER CHONG  WIRE ROPE CABLE MAINTENANCE MECHANIC     56120.71\n",
      "6                ALSON LEE    BATTALION CHIEF, (FIRE DEPARTMENT)     89062.90\n",
      "8           MICHAEL MORRIS    BATTALION CHIEF, (FIRE DEPARTMENT)     86362.68\n",
      "...                    ...                                   ...          ...\n",
      "118288    Francisco A Arce                      Transit Operator     51625.42\n",
      "118342    Felix Pagatpatan                      Transit Operator     52550.53\n",
      "119450         Bobby Jones              Track Maintenance Worker     50265.23\n",
      "119607       Hung V Nguyen             Diagnostic Imaging Tech I     74935.96\n",
      "120204  Girma-Worku Zeleke               Parking Control Officer     54738.36\n",
      "\n",
      "[2165 rows x 3 columns]\n"
     ]
    }
   ],
   "source": [
    "#todo\n",
    "df['OvertimePay'] = pd.to_numeric(df['OvertimePay'], errors='coerce')\n",
    "overtime_filtro = df[df['OvertimePay'] > 50000]\n",
    "\n",
    "print(overtime_filtro[['EmployeeName', 'JobTitle', 'OvertimePay']])"
   ]
  },
  {
   "cell_type": "markdown",
   "id": "518b4eab",
   "metadata": {},
   "source": [
    "3. **Contar cuántos empleados únicos hay por año**"
   ]
  },
  {
   "cell_type": "code",
   "execution_count": 7,
   "id": "e35c5908",
   "metadata": {},
   "outputs": [
    {
     "name": "stdout",
     "output_type": "stream",
     "text": [
      "Year\n",
      "2011    33878\n",
      "2012    34349\n",
      "2013    36150\n",
      "2014    36684\n",
      "Name: EmployeeName, dtype: int64\n"
     ]
    }
   ],
   "source": [
    "#todo\n",
    "empleados_unicos_anuales = df.groupby('Year')['EmployeeName'].nunique()\n",
    "print(empleados_unicos_anuales)"
   ]
  },
  {
   "cell_type": "markdown",
   "id": "9105e992",
   "metadata": {},
   "source": [
    "4. **Ver cuántos cargos únicos (JobTitle) existen y los 5 más comunes**"
   ]
  },
  {
   "cell_type": "code",
   "execution_count": 9,
   "id": "e388d537",
   "metadata": {},
   "outputs": [
    {
     "name": "stdout",
     "output_type": "stream",
     "text": [
      "Total de cargos únicos: 2159\n",
      "Los cinco cargos más comunes son:\n",
      "JobTitle\n",
      "Transit Operator                7036\n",
      "Special Nurse                   4389\n",
      "Registered Nurse                3736\n",
      "Public Svc Aide-Public Works    2518\n",
      "Police Officer 3                2421\n",
      "Name: count, dtype: int64\n"
     ]
    }
   ],
   "source": [
    "#todo\n",
    "cargos_unicos = df['JobTitle'].nunique()\n",
    "print(f\"Total de cargos únicos: {cargos_unicos}\")\n",
    "\n",
    "cinco_cargos_mas_comunes = df['JobTitle'].value_counts().head(5)\n",
    "print(\"Los cinco cargos más comunes son:\")\n",
    "print(cinco_cargos_mas_comunes)"
   ]
  },
  {
   "cell_type": "markdown",
   "id": "b34c7043",
   "metadata": {},
   "source": [
    "5. **Mostrar el salario total (TotalPay) promedio por año**"
   ]
  },
  {
   "cell_type": "code",
   "execution_count": null,
   "id": "64d765f0",
   "metadata": {},
   "outputs": [],
   "source": [
    "#todo"
   ]
  },
  {
   "cell_type": "markdown",
   "id": "cd1d7071",
   "metadata": {},
   "source": [
    "6. **Exporta todos los datos a un CSV y muestra los ultimos 10 valores**"
   ]
  },
  {
   "cell_type": "code",
   "execution_count": null,
   "id": "1f27e45c",
   "metadata": {},
   "outputs": [],
   "source": [
    "#todo"
   ]
  }
 ],
 "metadata": {
  "kernelspec": {
   "display_name": "env",
   "language": "python",
   "name": "python3"
  },
  "language_info": {
   "codemirror_mode": {
    "name": "ipython",
    "version": 3
   },
   "file_extension": ".py",
   "mimetype": "text/x-python",
   "name": "python",
   "nbconvert_exporter": "python",
   "pygments_lexer": "ipython3",
   "version": "3.12.9"
  }
 },
 "nbformat": 4,
 "nbformat_minor": 5
}
